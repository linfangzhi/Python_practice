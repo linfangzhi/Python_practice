{
 "cells": [
  {
   "cell_type": "code",
   "execution_count": 2,
   "metadata": {},
   "outputs": [
    {
     "name": "stdout",
     "output_type": "stream",
     "text": [
      "[ 0  1  2  3  4  5  6  7  8  9 10 11 12 13 14 15]\n[[0. 0. 0. 0. 0. 0. 0. 0.]\n [0. 0. 0. 0. 0. 0. 0. 0.]]\n[ 0  1  2  3  4  5  6  7  8  9 10 11 12 13 14 15]\n[[0. 0.]\n [0. 0.]\n [0. 0.]\n [0. 0.]\n [0. 0.]\n [0. 0.]\n [0. 0.]\n [0. 0.]]\n[[ 0  1  2  3]\n [ 4  5  6  7]\n [ 8  9 10 11]\n [12 13 14 15]]\n[[1. 1.]\n [1. 1.]\n [1. 1.]\n [1. 1.]\n [1. 1.]]\n[[0 1 2 3]\n [4 0 1 2]\n [3 4 0 1]]\n[[ 0  1  2  3  4  5  6  7]\n [ 8  9 10 11 12 13 14 15]]\n[[0 1 2 3]\n [4 0 1 2]\n [3 4 0 1]]\n"
     ]
    }
   ],
   "source": [
    "import numpy as np\n",
    "ar1 = np.arange(16)\n",
    "ar2 = np.zeros((2,8))\n",
    "print(ar1)\n",
    "print(ar2)\n",
    "print(ar1.T) # 矩阵的转置\n",
    "print(ar2.T)\n",
    "print(ar1.reshape(4,4))\n",
    "print(np.ones((2,5)).reshape(5,2))\n",
    "\n",
    "print(np.resize(np.arange(5),(3,4)))\n",
    "print(np.reshape(np.arange(16),(2,8)))# 保证数一样\n",
    "\n",
    "print(np.resize(np.arange(5),(3,4))) # 循环填满 "
   ]
  },
  {
   "cell_type": "code",
   "execution_count": 4,
   "metadata": {},
   "outputs": [
    {
     "name": "stdout",
     "output_type": "stream",
     "text": [
      "True\n"
     ]
    }
   ],
   "source": [
    "ar3 = np.arange(10)\n",
    "ar4 = ar3\n",
    "print(ar3 is ar4)\n",
    "ar4 = ar3.copy()\n"
   ]
  },
  {
   "cell_type": "code",
   "execution_count": 8,
   "metadata": {},
   "outputs": [
    {
     "name": "stdout",
     "output_type": "stream",
     "text": [
      "float64\nint32\n"
     ]
    }
   ],
   "source": [
    "ar1 = np.arange(10,dtype=float)\n",
    "ar2 = ar1.astype(np.int)\n",
    "print(ar1.dtype)\n",
    "print(ar2.dtype)"
   ]
  },
  {
   "cell_type": "code",
   "execution_count": 19,
   "metadata": {},
   "outputs": [
    {
     "name": "stdout",
     "output_type": "stream",
     "text": [
      "[0 1 2 3]\n[5 6 7 8]\n[0 1 2 3 5 6 7 8]\n[[0]\n [1]\n [2]\n [3]]\n[[0 1 2 3]\n [5 6 7 8]]\n[[0 1 2 3]\n [5 6 7 8]]\n[[0 5]\n [1 6]\n [2 7]\n [3 8]]\n"
     ]
    }
   ],
   "source": [
    "a = np.arange(4)\n",
    "b = np.arange(5,9)\n",
    "print(a)\n",
    "print(b)\n",
    "print(np.hstack((a,b))) #横向连接\n",
    "print(a.reshape(a.shape[0],1))\n",
    "print(np.vstack((a,b))) #纵向连接\n",
    "\n",
    "print(np.stack((a,b),axis=0)) #连接 ，使用参数\n",
    "print(np.stack((a,b),axis=1)) #连接 ，使用参数\n"
   ]
  },
  {
   "cell_type": "code",
   "execution_count": 21,
   "metadata": {},
   "outputs": [
    {
     "name": "stdout",
     "output_type": "stream",
     "text": [
      "[[ 0  1  2  3]\n [ 4  5  6  7]\n [ 8  9 10 11]\n [12 13 14 15]]\n[[ 0  1]\n [ 4  5]\n [ 8  9]\n [12 13]]\n[array([[0, 1, 2, 3],\n       [4, 5, 6, 7]]), array([[ 8,  9, 10, 11],\n       [12, 13, 14, 15]])]\n"
     ]
    }
   ],
   "source": [
    "#数组的拆分\n",
    "ar = np.arange(16).reshape(4,4)\n",
    "print(ar)\n",
    "print(np.hsplit(ar,2)[0])\n",
    "print(np.vsplit(ar,2))"
   ]
  },
  {
   "cell_type": "code",
   "execution_count": null,
   "metadata": {},
   "outputs": [],
   "source": []
  }
 ],
 "metadata": {
  "kernelspec": {
   "display_name": "Python 2",
   "language": "python",
   "name": "python2"
  },
  "language_info": {
   "codemirror_mode": {
    "name": "ipython",
    "version": 2
   },
   "file_extension": ".py",
   "mimetype": "text/x-python",
   "name": "python",
   "nbconvert_exporter": "python",
   "pygments_lexer": "ipython2",
   "version": "2.7.6"
  }
 },
 "nbformat": 4,
 "nbformat_minor": 0
}
