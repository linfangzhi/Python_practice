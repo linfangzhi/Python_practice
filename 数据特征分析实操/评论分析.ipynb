{
 "cells": [
  {
   "cell_type": "code",
   "execution_count": 2,
   "metadata": {
    "collapsed": true,
    "pycharm": {
     "is_executing": false,
     "name": "#%%\n"
    }
   },
   "outputs": [],
   "source": [
    "import numpy as np\n",
    "import pandas as pd\n",
    "import matplotlib.pyplot as plt\n",
    "#% matplotlib inline\n",
    "\n",
    "\n",
    "names=['用户首页','用户评论次数','用户昵称','用户简介','地址','浏览数','点赞数','粉丝数','关注数','项目数量','项目数据']\n",
    "data = pd.read_csv('用户信息.csv',encoding='utf8',names=names,engine= 'python')\n",
    "data.head(10)\n",
    "\n",
    "China_user = []\n",
    "# names=['用户首页','用户评论次数','用户昵称','用户简介','地址','浏览数','点赞数','粉丝数','关注数','项目数量','项目数据']\n",
    "for index, row in data.iterrows():\n",
    "    #print(row['地址'])\n",
    "    if \"China\" in str(row['地址']) and float(row['项目数量'])>1 and 150<float(row['粉丝数'])<200:\n",
    "        China_user.append([row['用户首页'],row['地址']])\n",
    "Chian_data = pd.DataFrame(China_user)\n",
    "\n",
    "\n",
    "\n"
   ]
  }
 ],
 "metadata": {
  "kernelspec": {
   "display_name": "Python 3",
   "language": "python",
   "name": "python3"
  },
  "language_info": {
   "codemirror_mode": {
    "name": "ipython",
    "version": 2
   },
   "file_extension": ".py",
   "mimetype": "text/x-python",
   "name": "python",
   "nbconvert_exporter": "python",
   "pygments_lexer": "ipython2",
   "version": "2.7.6"
  },
  "pycharm": {
   "stem_cell": {
    "cell_type": "raw",
    "source": [],
    "metadata": {
     "collapsed": false
    }
   }
  }
 },
 "nbformat": 4,
 "nbformat_minor": 0
}