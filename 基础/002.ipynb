{
 "cells": [
  {
   "cell_type": "code",
   "execution_count": 1,
   "outputs": [
    {
     "name": "stdout",
     "text": [
      "4.123000 \n",
      " 4.12 \n",
      " 4.123000e+00 \n",
      " 100 \n",
      " 412.300000% \n",
      " 10\n"
     ],
     "output_type": "stream"
    }
   ],
   "source": [
    "print(\"{:f}\".format(4.123),'\\n',\n",
    " \"{:.2f}\".format(4.123),'\\n',\n",
    " \"{:e}\".format(4.123),'\\n',\n",
    " \"{:.0f}\".format(99.9),'\\n',\n",
    " \"{:%}\".format(4.123),'\\n',\n",
    " \"{:d}\".format(10))"
   ],
   "metadata": {
    "collapsed": false,
    "pycharm": {
     "name": "#%%\n",
     "is_executing": false
    }
   }
  },
  {
   "cell_type": "code",
   "execution_count": 1,
   "outputs": [],
   "source": [
    "\n"
   ],
   "metadata": {
    "collapsed": false,
    "pycharm": {
     "name": "#%%\n",
     "is_executing": false
    }
   }
  }
 ],
 "metadata": {
  "kernelspec": {
   "display_name": "Python 3",
   "language": "python",
   "name": "python3"
  },
  "language_info": {
   "codemirror_mode": {
    "name": "ipython",
    "version": 2
   },
   "file_extension": ".py",
   "mimetype": "text/x-python",
   "name": "python",
   "nbconvert_exporter": "python",
   "pygments_lexer": "ipython2",
   "version": "2.7.6"
  },
  "pycharm": {
   "stem_cell": {
    "cell_type": "raw",
    "source": [],
    "metadata": {
     "collapsed": false
    }
   }
  }
 },
 "nbformat": 4,
 "nbformat_minor": 0
}