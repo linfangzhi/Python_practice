{
 "cells": [
  {
   "cell_type": "code",
   "execution_count": 1,
   "metadata": {
    "collapsed": true,
    "pycharm": {
     "is_executing": false
    }
   },
   "outputs": [],
   "source": [
    "import numpy as np\n",
    "import pandas as pd"
   ]
  },
  {
   "cell_type": "code",
   "execution_count": 2,
   "outputs": [
    {
     "name": "stdout",
     "text": [
      "[0.12808176 0.28232214 0.26086106 0.7097487  0.33711884]\n",
      "a    0.128082\n",
      "b    0.282322\n",
      "c    0.260861\n",
      "d    0.709749\n",
      "e    0.337119\n",
      "dtype: float64\n",
      "<class 'pandas.core.series.Series'>\n",
      "Index(['a', 'b', 'c', 'd', 'e'], dtype='object')\n"
     ],
     "output_type": "stream"
    }
   ],
   "source": [
    "ar = np.random.rand(5) \n",
    "s = pd.Series(ar,index=list('abcde'))\n",
    "print(ar)\n",
    "print(s)\n",
    "print(type(s))\n",
    "print(s.index)"
   ],
   "metadata": {
    "collapsed": false,
    "pycharm": {
     "name": "#%%\n",
     "is_executing": false
    }
   }
  },
  {
   "cell_type": "code",
   "execution_count": 3,
   "outputs": [
    {
     "name": "stdout",
     "text": [
      "a    1\n",
      "b    2\n",
      "c    3\n",
      "4    4\n",
      "5    5\n",
      "dtype: int64\n"
     ],
     "output_type": "stream"
    }
   ],
   "source": [
    "dic = {'a':1 ,'b':2 , 'c':3, '4':4, '5':5}\n",
    "s = pd.Series(dic)\n",
    "print(s)"
   ],
   "metadata": {
    "collapsed": false,
    "pycharm": {
     "name": "#%%\n",
     "is_executing": false
    }
   }
  },
  {
   "cell_type": "code",
   "execution_count": 4,
   "outputs": [
    {
     "name": "stdout",
     "text": [
      "[0.75109504 0.57031956 0.43259448 0.35340613 0.14444511 0.93614021\n",
      " 0.14675675 0.95475335 0.08699596 0.78306913]\n",
      "123\n"
     ],
     "output_type": "stream"
    }
   ],
   "source": [
    "arr = np.random.rand(10)\n",
    "a = pd.Series(arr,index=list('abcdefghij'),name='123')\n",
    "print(a.values)\n",
    "print(a.name)\n"
   ],
   "metadata": {
    "collapsed": false,
    "pycharm": {
     "name": "#%%\n",
     "is_executing": false
    }
   }
  },
  {
   "cell_type": "code",
   "execution_count": 6,
   "outputs": [
    {
     "name": "stdout",
     "text": [
      "0.4821833198171226\n"
     ],
     "output_type": "stream"
    }
   ],
   "source": [
    "#下标索引\n",
    "s = pd.Series(np.random.rand(10))\n",
    "print(s[8])"
   ],
   "metadata": {
    "collapsed": false,
    "pycharm": {
     "name": "#%%\n",
     "is_executing": false
    }
   }
  },
  {
   "cell_type": "code",
   "execution_count": null,
   "outputs": [],
   "source": [
    " \n",
    "\n",
    "\n"
   ],
   "metadata": {
    "collapsed": false,
    "pycharm": {
     "name": "#%%\n"
    }
   }
  }
 ],
 "metadata": {
  "kernelspec": {
   "display_name": "Python 3",
   "language": "python",
   "name": "python3"
  },
  "language_info": {
   "codemirror_mode": {
    "name": "ipython",
    "version": 2
   },
   "file_extension": ".py",
   "mimetype": "text/x-python",
   "name": "python",
   "nbconvert_exporter": "python",
   "pygments_lexer": "ipython2",
   "version": "2.7.6"
  },
  "pycharm": {
   "stem_cell": {
    "cell_type": "raw",
    "source": [],
    "metadata": {
     "collapsed": false
    }
   }
  }
 },
 "nbformat": 4,
 "nbformat_minor": 0
}